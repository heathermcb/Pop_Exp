{
 "cells": [
  {
   "cell_type": "code",
   "execution_count": 1,
   "id": "ed154769",
   "metadata": {},
   "outputs": [],
   "source": [
    "import geopandas as gpd\n",
    "from shapely.geometry import Point, Polygon"
   ]
  },
  {
   "cell_type": "code",
   "execution_count": 2,
   "id": "bea91c7f",
   "metadata": {},
   "outputs": [],
   "source": [
    "def concat_ids(series):\n",
    "    return '_'.join(series.astype(str))"
   ]
  },
  {
   "cell_type": "code",
   "execution_count": 3,
   "id": "37a02393",
   "metadata": {},
   "outputs": [],
   "source": [
    "monthly_df = gpd.read_file('/Volumes/squirrel-utopia/national_wf_disaster_hosp/local_data/monthly_wf_exposure/main_analysis/month_2018-04-01.geojson')"
   ]
  },
  {
   "cell_type": "code",
   "execution_count": 4,
   "id": "57c4aa5a",
   "metadata": {},
   "outputs": [
    {
     "data": {
      "text/plain": [
       "<Axes: >"
      ]
     },
     "execution_count": 4,
     "metadata": {},
     "output_type": "execute_result"
    },
    {
     "data": {
      "image/png": "[encoded data removed]",
      "text/plain": [
       "<Figure size 640x480 with 1 Axes>"
      ]
     },
     "metadata": {},
     "output_type": "display_data"
    }
   ],
   "source": [
    "monthly_df.plot()"
   ]
  },
  {
   "cell_type": "code",
   "execution_count": 5,
   "id": "fc362b63",
   "metadata": {},
   "outputs": [
    {
     "name": "stdout",
     "output_type": "stream",
     "text": [
      "    ID_climate_hazard  buffer_dist  \\\n",
      "0                   6      10000.0   \n",
      "1                   9      10000.0   \n",
      "2                  25      10000.0   \n",
      "3                  56      10000.0   \n",
      "4                  59      10000.0   \n",
      "5                 753      10000.0   \n",
      "6                 987      10000.0   \n",
      "7                1000      10000.0   \n",
      "8                1531      10000.0   \n",
      "9                2542      10000.0   \n",
      "10               2543      10000.0   \n",
      "11               5448      10000.0   \n",
      "12               5488      10000.0   \n",
      "13               5529      10000.0   \n",
      "14               5574      10000.0   \n",
      "15               5575      10000.0   \n",
      "16               5692      10000.0   \n",
      "17               5708      10000.0   \n",
      "18               5716      10000.0   \n",
      "19               5722      10000.0   \n",
      "20               5723      10000.0   \n",
      "21               5737      10000.0   \n",
      "22               5750      10000.0   \n",
      "23               5751      10000.0   \n",
      "24               5752      10000.0   \n",
      "25               5777      10000.0   \n",
      "26               5778      10000.0   \n",
      "27               5896      10000.0   \n",
      "28               5918      10000.0   \n",
      "29               5919      10000.0   \n",
      "30               6120      10000.0   \n",
      "31               6377      10000.0   \n",
      "32               6440      10000.0   \n",
      "33               6573      10000.0   \n",
      "34               6608      10000.0   \n",
      "\n",
      "                                             geometry  \n",
      "0   MULTIPOLYGON (((-10315172.728 4308526.683, -10...  \n",
      "1   MULTIPOLYGON (((-11253117.785 4182922, -112530...  \n",
      "2   MULTIPOLYGON (((-11604374.093 3579452.17, -116...  \n",
      "3   MULTIPOLYGON (((-11126784.055 4152764.453, -11...  \n",
      "4   MULTIPOLYGON (((-11096451.387 3852974.115, -11...  \n",
      "5   MULTIPOLYGON (((-11226661.105 4190180.178, -11...  \n",
      "6   MULTIPOLYGON (((-9037415.018 2996498.278, -903...  \n",
      "7   MULTIPOLYGON (((-11074573.4 4386380.959, -1107...  \n",
      "8   MULTIPOLYGON (((-9056088.629 2835836.398, -905...  \n",
      "9   MULTIPOLYGON (((-8904337.61 4123185.234, -8904...  \n",
      "10  MULTIPOLYGON (((-8902035.267 4112471.314, -890...  \n",
      "11  MULTIPOLYGON (((-10544601.278 6019895.518, -10...  \n",
      "12  MULTIPOLYGON (((-8984153.206 3266085.704, -898...  \n",
      "13  MULTIPOLYGON (((-9051376.418 3220127.567, -905...  \n",
      "14  MULTIPOLYGON (((-8892677.665 5108410.038, -889...  \n",
      "15  MULTIPOLYGON (((-10442919.425 5880546.44, -104...  \n",
      "16  MULTIPOLYGON (((-9082610.261 3041299.209, -908...  \n",
      "17  MULTIPOLYGON (((-8396903.333 4914827.829, -839...  \n",
      "18  MULTIPOLYGON (((-9209985.668 4636624.079, -920...  \n",
      "19  MULTIPOLYGON (((-11293300.241 3783078.199, -11...  \n",
      "20  MULTIPOLYGON (((-11226599.789 4000787.296, -11...  \n",
      "21  MULTIPOLYGON (((-8489766.115 4971299.546, -848...  \n",
      "22  MULTIPOLYGON (((-8962904.173 4002559.221, -896...  \n",
      "23  MULTIPOLYGON (((-8792366.563 4030628.817, -879...  \n",
      "24  MULTIPOLYGON (((-8902139.319 4112313.222, -890...  \n",
      "25  MULTIPOLYGON (((-8403138.311 5001805.602, -840...  \n",
      "26  MULTIPOLYGON (((-8373634.724 5040973.942, -837...  \n",
      "27  MULTIPOLYGON (((-10538696.724 5935135.307, -10...  \n",
      "28  MULTIPOLYGON (((-9159062.079 4467823.351, -915...  \n",
      "29  MULTIPOLYGON (((-9158039.503 4468205.177, -915...  \n",
      "30  MULTIPOLYGON (((-10115739.869 4354376.38, -101...  \n",
      "31  MULTIPOLYGON (((-9182623.184 4645560.149, -918...  \n",
      "32  MULTIPOLYGON (((-9972308.747 4048408.823, -997...  \n",
      "33  MULTIPOLYGON (((-8943926.277 5073527.351, -894...  \n",
      "34  MULTIPOLYGON (((-8734711.453 4993986.857, -873...  \n"
     ]
    }
   ],
   "source": [
    "print(monthly_df)\n"
   ]
  },
  {
   "cell_type": "code",
   "execution_count": 6,
   "id": "dae4003b",
   "metadata": {},
   "outputs": [],
   "source": [
    "intersects = monthly_df.sjoin(monthly_df, how=\"left\", predicate=\"intersects\")"
   ]
  },
  {
   "cell_type": "code",
   "execution_count": 7,
   "id": "a2b15572",
   "metadata": {},
   "outputs": [
    {
     "name": "stdout",
     "output_type": "stream",
     "text": [
      "    ID_climate_hazard_left  buffer_dist_left  \\\n",
      "0                        6           10000.0   \n",
      "1                        9           10000.0   \n",
      "2                       25           10000.0   \n",
      "3                       56           10000.0   \n",
      "4                       59           10000.0   \n",
      "5                      753           10000.0   \n",
      "6                      987           10000.0   \n",
      "7                     1000           10000.0   \n",
      "8                     1531           10000.0   \n",
      "9                     2542           10000.0   \n",
      "10                    2543           10000.0   \n",
      "10                    2543           10000.0   \n",
      "11                    5448           10000.0   \n",
      "12                    5488           10000.0   \n",
      "13                    5529           10000.0   \n",
      "14                    5574           10000.0   \n",
      "15                    5575           10000.0   \n",
      "16                    5692           10000.0   \n",
      "17                    5708           10000.0   \n",
      "18                    5716           10000.0   \n",
      "19                    5722           10000.0   \n",
      "20                    5723           10000.0   \n",
      "21                    5737           10000.0   \n",
      "22                    5750           10000.0   \n",
      "23                    5751           10000.0   \n",
      "24                    5752           10000.0   \n",
      "24                    5752           10000.0   \n",
      "25                    5777           10000.0   \n",
      "26                    5778           10000.0   \n",
      "27                    5896           10000.0   \n",
      "28                    5918           10000.0   \n",
      "29                    5919           10000.0   \n",
      "30                    6120           10000.0   \n",
      "31                    6377           10000.0   \n",
      "32                    6440           10000.0   \n",
      "33                    6573           10000.0   \n",
      "34                    6608           10000.0   \n",
      "\n",
      "                                             geometry  index_right  \\\n",
      "0   MULTIPOLYGON (((-10315172.728 4308526.683, -10...            0   \n",
      "1   MULTIPOLYGON (((-11253117.785 4182922, -112530...            1   \n",
      "2   MULTIPOLYGON (((-11604374.093 3579452.17, -116...            2   \n",
      "3   MULTIPOLYGON (((-11126784.055 4152764.453, -11...            3   \n",
      "4   MULTIPOLYGON (((-11096451.387 3852974.115, -11...            4   \n",
      "5   MULTIPOLYGON (((-11226661.105 4190180.178, -11...            5   \n",
      "6   MULTIPOLYGON (((-9037415.018 2996498.278, -903...            6   \n",
      "7   MULTIPOLYGON (((-11074573.4 4386380.959, -1107...            7   \n",
      "8   MULTIPOLYGON (((-9056088.629 2835836.398, -905...            8   \n",
      "9   MULTIPOLYGON (((-8904337.61 4123185.234, -8904...            9   \n",
      "10  MULTIPOLYGON (((-8902035.267 4112471.314, -890...           24   \n",
      "10  MULTIPOLYGON (((-8902035.267 4112471.314, -890...           10   \n",
      "11  MULTIPOLYGON (((-10544601.278 6019895.518, -10...           11   \n",
      "12  MULTIPOLYGON (((-8984153.206 3266085.704, -898...           12   \n",
      "13  MULTIPOLYGON (((-9051376.418 3220127.567, -905...           13   \n",
      "14  MULTIPOLYGON (((-8892677.665 5108410.038, -889...           14   \n",
      "15  MULTIPOLYGON (((-10442919.425 5880546.44, -104...           15   \n",
      "16  MULTIPOLYGON (((-9082610.261 3041299.209, -908...           16   \n",
      "17  MULTIPOLYGON (((-8396903.333 4914827.829, -839...           17   \n",
      "18  MULTIPOLYGON (((-9209985.668 4636624.079, -920...           18   \n",
      "19  MULTIPOLYGON (((-11293300.241 3783078.199, -11...           19   \n",
      "20  MULTIPOLYGON (((-11226599.789 4000787.296, -11...           20   \n",
      "21  MULTIPOLYGON (((-8489766.115 4971299.546, -848...           21   \n",
      "22  MULTIPOLYGON (((-8962904.173 4002559.221, -896...           22   \n",
      "23  MULTIPOLYGON (((-8792366.563 4030628.817, -879...           23   \n",
      "24  MULTIPOLYGON (((-8902139.319 4112313.222, -890...           24   \n",
      "24  MULTIPOLYGON (((-8902139.319 4112313.222, -890...           10   \n",
      "25  MULTIPOLYGON (((-8403138.311 5001805.602, -840...           25   \n",
      "26  MULTIPOLYGON (((-8373634.724 5040973.942, -837...           26   \n",
      "27  MULTIPOLYGON (((-10538696.724 5935135.307, -10...           27   \n",
      "28  MULTIPOLYGON (((-9159062.079 4467823.351, -915...           28   \n",
      "29  MULTIPOLYGON (((-9158039.503 4468205.177, -915...           29   \n",
      "30  MULTIPOLYGON (((-10115739.869 4354376.38, -101...           30   \n",
      "31  MULTIPOLYGON (((-9182623.184 4645560.149, -918...           31   \n",
      "32  MULTIPOLYGON (((-9972308.747 4048408.823, -997...           32   \n",
      "33  MULTIPOLYGON (((-8943926.277 5073527.351, -894...           33   \n",
      "34  MULTIPOLYGON (((-8734711.453 4993986.857, -873...           34   \n",
      "\n",
      "    ID_climate_hazard_right  buffer_dist_right  \n",
      "0                         6            10000.0  \n",
      "1                         9            10000.0  \n",
      "2                        25            10000.0  \n",
      "3                        56            10000.0  \n",
      "4                        59            10000.0  \n",
      "5                       753            10000.0  \n",
      "6                       987            10000.0  \n",
      "7                      1000            10000.0  \n",
      "8                      1531            10000.0  \n",
      "9                      2542            10000.0  \n",
      "10                     5752            10000.0  \n",
      "10                     2543            10000.0  \n",
      "11                     5448            10000.0  \n",
      "12                     5488            10000.0  \n",
      "13                     5529            10000.0  \n",
      "14                     5574            10000.0  \n",
      "15                     5575            10000.0  \n",
      "16                     5692            10000.0  \n",
      "17                     5708            10000.0  \n",
      "18                     5716            10000.0  \n",
      "19                     5722            10000.0  \n",
      "20                     5723            10000.0  \n",
      "21                     5737            10000.0  \n",
      "22                     5750            10000.0  \n",
      "23                     5751            10000.0  \n",
      "24                     5752            10000.0  \n",
      "24                     2543            10000.0  \n",
      "25                     5777            10000.0  \n",
      "26                     5778            10000.0  \n",
      "27                     5896            10000.0  \n",
      "28                     5918            10000.0  \n",
      "29                     5919            10000.0  \n",
      "30                     6120            10000.0  \n",
      "31                     6377            10000.0  \n",
      "32                     6440            10000.0  \n",
      "33                     6573            10000.0  \n",
      "34                     6608            10000.0  \n"
     ]
    }
   ],
   "source": [
    "print(intersects)"
   ]
  },
  {
   "cell_type": "code",
   "execution_count": 8,
   "id": "620966ee",
   "metadata": {},
   "outputs": [
    {
     "name": "stdout",
     "output_type": "stream",
     "text": [
      "Index(['ID_climate_hazard_left', 'buffer_dist_left', 'geometry', 'index_right',\n",
      "       'ID_climate_hazard_right', 'buffer_dist_right'],\n",
      "      dtype='object')\n"
     ]
    }
   ],
   "source": [
    "print(intersects.columns)"
   ]
  },
  {
   "cell_type": "code",
   "execution_count": 9,
   "id": "9be616c9",
   "metadata": {},
   "outputs": [],
   "source": [
    "intersects_diss = intersects.dissolve(\"ID_climate_hazard_right\", aggfunc={\"ID_climate_hazard_left\": concat_ids})"
   ]
  },
  {
   "cell_type": "code",
   "execution_count": 10,
   "id": "b73dcd74",
   "metadata": {},
   "outputs": [
    {
     "name": "stdout",
     "output_type": "stream",
     "text": [
      "                                                                  geometry  \\\n",
      "ID_climate_hazard_right                                                      \n",
      "6                        POLYGON ((-10315172.728 4308526.683, -10315170...   \n",
      "9                        POLYGON ((-11253117.785 4182922, -11253097.402...   \n",
      "25                       POLYGON ((-11604374.093 3579452.17, -11604373....   \n",
      "56                       POLYGON ((-11126784.055 4152764.453, -11126773...   \n",
      "59                       POLYGON ((-11096451.387 3852974.115, -11096451...   \n",
      "753                      POLYGON ((-11226661.105 4190180.178, -11226563...   \n",
      "987                      POLYGON ((-9037415.018 2996498.278, -9037453.4...   \n",
      "1000                     POLYGON ((-11074573.4 4386380.959, -11074573.1...   \n",
      "1531                     POLYGON ((-9056088.629 2835836.398, -9056090.1...   \n",
      "2542                     POLYGON ((-8904337.61 4123185.234, -8904335.39...   \n",
      "2543                     POLYGON ((-8902246.343 4112468.697, -8902241.4...   \n",
      "5448                     POLYGON ((-10544601.278 6019895.518, -10544600...   \n",
      "5488                     POLYGON ((-8984153.206 3266085.704, -8984153.2...   \n",
      "5529                     POLYGON ((-9051376.418 3220127.567, -9051376.4...   \n",
      "5574                     POLYGON ((-8892677.665 5108410.038, -8892677.6...   \n",
      "5575                     POLYGON ((-10442919.425 5880546.44, -10442919....   \n",
      "5692                     POLYGON ((-9082610.261 3041299.209, -9082610.1...   \n",
      "5708                     POLYGON ((-8396903.333 4914827.829, -8396903.3...   \n",
      "5716                     POLYGON ((-9209985.668 4636624.079, -9209985.6...   \n",
      "5722                     POLYGON ((-11293300.241 3783078.199, -11293300...   \n",
      "5723                     POLYGON ((-11226599.789 4000787.296, -11226619...   \n",
      "5737                     POLYGON ((-8489766.115 4971299.546, -8489766.1...   \n",
      "5750                     POLYGON ((-8962904.173 4002559.221, -8962904.1...   \n",
      "5751                     POLYGON ((-8792366.563 4030628.817, -8792366.5...   \n",
      "5752                     POLYGON ((-8902246.343 4112468.697, -8902241.4...   \n",
      "5777                     POLYGON ((-8403138.311 5001805.602, -8403138.3...   \n",
      "5778                     POLYGON ((-8373634.724 5040973.942, -8373634.7...   \n",
      "5896                     POLYGON ((-10538696.724 5935135.307, -10538695...   \n",
      "5918                     POLYGON ((-9159062.079 4467823.351, -9159052.6...   \n",
      "5919                     POLYGON ((-9158039.503 4468205.177, -9158039.5...   \n",
      "6120                     POLYGON ((-10115739.869 4354376.38, -10115739....   \n",
      "6377                     POLYGON ((-9182623.184 4645560.149, -9182623.1...   \n",
      "6440                     POLYGON ((-9972308.747 4048408.823, -9972308.7...   \n",
      "6573                     POLYGON ((-8943926.277 5073527.351, -8943928.6...   \n",
      "6608                     POLYGON ((-8734711.453 4993986.857, -8734710.8...   \n",
      "\n",
      "                        ID_climate_hazard_left  \n",
      "ID_climate_hazard_right                         \n",
      "6                                            6  \n",
      "9                                            9  \n",
      "25                                          25  \n",
      "56                                          56  \n",
      "59                                          59  \n",
      "753                                        753  \n",
      "987                                        987  \n",
      "1000                                      1000  \n",
      "1531                                      1531  \n",
      "2542                                      2542  \n",
      "2543                                 2543_5752  \n",
      "5448                                      5448  \n",
      "5488                                      5488  \n",
      "5529                                      5529  \n",
      "5574                                      5574  \n",
      "5575                                      5575  \n",
      "5692                                      5692  \n",
      "5708                                      5708  \n",
      "5716                                      5716  \n",
      "5722                                      5722  \n",
      "5723                                      5723  \n",
      "5737                                      5737  \n",
      "5750                                      5750  \n",
      "5751                                      5751  \n",
      "5752                                 2543_5752  \n",
      "5777                                      5777  \n",
      "5778                                      5778  \n",
      "5896                                      5896  \n",
      "5918                                      5918  \n",
      "5919                                      5919  \n",
      "6120                                      6120  \n",
      "6377                                      6377  \n",
      "6440                                      6440  \n",
      "6573                                      6573  \n",
      "6608                                      6608  \n"
     ]
    }
   ],
   "source": [
    "print(intersects_diss)\n"
   ]
  },
  {
   "cell_type": "code",
   "execution_count": 11,
   "id": "1448ee01",
   "metadata": {},
   "outputs": [],
   "source": [
    "intersects_diss = intersects_diss.reset_index().dissolve(\"ID_climate_hazard_left\",\n",
    "                                                         aggfunc={\"ID_climate_hazard_right\": concat_ids})\n"
   ]
  },
  {
   "cell_type": "code",
   "execution_count": 12,
   "id": "1d1483c6",
   "metadata": {},
   "outputs": [
    {
     "name": "stdout",
     "output_type": "stream",
     "text": [
      "                                                                 geometry  \\\n",
      "ID_climate_hazard_left                                                      \n",
      "1000                    POLYGON ((-11074573.4 4386380.959, -11074573.1...   \n",
      "1531                    POLYGON ((-9056088.629 2835836.398, -9056090.1...   \n",
      "25                      POLYGON ((-11604374.093 3579452.17, -11604373....   \n",
      "2542                    POLYGON ((-8904337.61 4123185.234, -8904335.39...   \n",
      "2543_5752               POLYGON ((-8902241.478 4112468.208, -8902241.4...   \n",
      "5448                    POLYGON ((-10544601.278 6019895.518, -10544600...   \n",
      "5488                    POLYGON ((-8984153.206 3266085.704, -8984153.2...   \n",
      "5529                    POLYGON ((-9051376.418 3220127.567, -9051376.4...   \n",
      "5574                    POLYGON ((-8892677.665 5108410.038, -8892677.6...   \n",
      "5575                    POLYGON ((-10442919.425 5880546.44, -10442919....   \n",
      "56                      POLYGON ((-11126784.055 4152764.453, -11126773...   \n",
      "5692                    POLYGON ((-9082610.261 3041299.209, -9082610.1...   \n",
      "5708                    POLYGON ((-8396903.333 4914827.829, -8396903.3...   \n",
      "5716                    POLYGON ((-9209985.668 4636624.079, -9209985.6...   \n",
      "5722                    POLYGON ((-11293300.241 3783078.199, -11293300...   \n",
      "5723                    POLYGON ((-11226599.789 4000787.296, -11226619...   \n",
      "5737                    POLYGON ((-8489766.115 4971299.546, -8489766.1...   \n",
      "5750                    POLYGON ((-8962904.173 4002559.221, -8962904.1...   \n",
      "5751                    POLYGON ((-8792366.563 4030628.817, -8792366.5...   \n",
      "5777                    POLYGON ((-8403138.311 5001805.602, -8403138.3...   \n",
      "5778                    POLYGON ((-8373634.724 5040973.942, -8373634.7...   \n",
      "5896                    POLYGON ((-10538696.724 5935135.307, -10538695...   \n",
      "59                      POLYGON ((-11096451.387 3852974.115, -11096451...   \n",
      "5918                    POLYGON ((-9159062.079 4467823.351, -9159052.6...   \n",
      "5919                    POLYGON ((-9158039.503 4468205.177, -9158039.5...   \n",
      "6                       POLYGON ((-10315172.728 4308526.683, -10315170...   \n",
      "6120                    POLYGON ((-10115739.869 4354376.38, -10115739....   \n",
      "6377                    POLYGON ((-9182623.184 4645560.149, -9182623.1...   \n",
      "6440                    POLYGON ((-9972308.747 4048408.823, -9972308.7...   \n",
      "6573                    POLYGON ((-8943926.277 5073527.351, -8943928.6...   \n",
      "6608                    POLYGON ((-8734711.453 4993986.857, -8734710.8...   \n",
      "753                     POLYGON ((-11226661.105 4190180.178, -11226563...   \n",
      "9                       POLYGON ((-11253117.785 4182922, -11253097.402...   \n",
      "987                     POLYGON ((-9037415.018 2996498.278, -9037453.4...   \n",
      "\n",
      "                       ID_climate_hazard_right  \n",
      "ID_climate_hazard_left                          \n",
      "1000                                      1000  \n",
      "1531                                      1531  \n",
      "25                                          25  \n",
      "2542                                      2542  \n",
      "2543_5752                            2543_5752  \n",
      "5448                                      5448  \n",
      "5488                                      5488  \n",
      "5529                                      5529  \n",
      "5574                                      5574  \n",
      "5575                                      5575  \n",
      "56                                          56  \n",
      "5692                                      5692  \n",
      "5708                                      5708  \n",
      "5716                                      5716  \n",
      "5722                                      5722  \n",
      "5723                                      5723  \n",
      "5737                                      5737  \n",
      "5750                                      5750  \n",
      "5751                                      5751  \n",
      "5777                                      5777  \n",
      "5778                                      5778  \n",
      "5896                                      5896  \n",
      "59                                          59  \n",
      "5918                                      5918  \n",
      "5919                                      5919  \n",
      "6                                            6  \n",
      "6120                                      6120  \n",
      "6377                                      6377  \n",
      "6440                                      6440  \n",
      "6573                                      6573  \n",
      "6608                                      6608  \n",
      "753                                        753  \n",
      "9                                            9  \n",
      "987                                        987  \n"
     ]
    }
   ],
   "source": [
    "print(intersects_diss)"
   ]
  },
  {
   "cell_type": "code",
   "execution_count": 165,
   "id": "efd6b3db",
   "metadata": {},
   "outputs": [
    {
     "name": "stdout",
     "output_type": "stream",
     "text": [
      "                                                                 geometry  \\\n",
      "ID_climate_hazard_left                                                      \n",
      "1000                    POLYGON ((-11074573.4 4386380.959, -11074573.1...   \n",
      "1531                    POLYGON ((-9056088.629 2835836.398, -9056090.1...   \n",
      "25                      POLYGON ((-11604374.093 3579452.17, -11604373....   \n",
      "2542                    POLYGON ((-8904337.61 4123185.234, -8904335.39...   \n",
      "2543_5752               POLYGON ((-8902241.478 4112468.208, -8902241.4...   \n",
      "\n",
      "                       ID_climate_hazard_right  \n",
      "ID_climate_hazard_left                          \n",
      "1000                                      1000  \n",
      "1531                                      1531  \n",
      "25                                          25  \n",
      "2542                                      2542  \n",
      "2543_5752                            2543_5752  \n"
     ]
    }
   ],
   "source": [
    "print(intersects_diss.head())"
   ]
  },
  {
   "cell_type": "code",
   "execution_count": 13,
   "id": "319a7dab",
   "metadata": {},
   "outputs": [
    {
     "name": "stdout",
     "output_type": "stream",
     "text": [
      "Index(['geometry', 'ID_climate_hazard_right'], dtype='object')\n"
     ]
    }
   ],
   "source": [
    "print(intersects_diss.columns)"
   ]
  },
  {
   "cell_type": "code",
   "execution_count": 14,
   "id": "302c182a",
   "metadata": {},
   "outputs": [
    {
     "name": "stdout",
     "output_type": "stream",
     "text": [
      "  ID_climate_hazard                                           geometry\n",
      "0              1000  POLYGON ((-11074573.4 4386380.959, -11074573.1...\n",
      "1              1531  POLYGON ((-9056088.629 2835836.398, -9056090.1...\n",
      "2                25  POLYGON ((-11604374.093 3579452.17, -11604373....\n",
      "3              2542  POLYGON ((-8904337.61 4123185.234, -8904335.39...\n",
      "4         2543_5752  POLYGON ((-8902241.478 4112468.208, -8902241.4...\n",
      "Index(['ID_climate_hazard', 'geometry'], dtype='object')\n"
     ]
    }
   ],
   "source": [
    "# rename ID_climtae_hazard_left to ID_climate_hazard\n",
    "intersects_diss = intersects_diss.rename(columns={\"ID_climate_hazard_right\" : \"ID_climate_hazard\"})\n",
    "# select ID climate hazard and geometry\n",
    "intersects_diss = intersects_diss[[\"ID_climate_hazard\", \"geometry\"]]\n",
    "intersects_diss = intersects_diss.reset_index(drop = True)\n",
    "# print head\n",
    "print(intersects_diss.head())\n",
    "print(intersects_diss.columns)\n"
   ]
  },
  {
   "cell_type": "code",
   "execution_count": null,
   "id": "50ee5104",
   "metadata": {},
   "outputs": [],
   "source": [
    "print(intersects_diss)"
   ]
  },
  {
   "cell_type": "code",
   "execution_count": 97,
   "id": "c5b6a5f1",
   "metadata": {},
   "outputs": [
    {
     "name": "stdout",
     "output_type": "stream",
     "text": [
      "Index(['ID_climate_hazard', 'geometry'], dtype='object')\n"
     ]
    }
   ],
   "source": [
    "print(intersects_diss.columns)"
   ]
  },
  {
   "cell_type": "code",
   "execution_count": 142,
   "id": "340d1d5d",
   "metadata": {},
   "outputs": [],
   "source": [
    "# Example GeoDataFrame\n",
    "gdf = gpd.GeoDataFrame({\n",
    "    'id': [1, 2, 3],\n",
    "    'geometry': [\n",
    "        Point(0, 0).buffer(1),  # Circle around (0, 0)\n",
    "        Point(1, 1).buffer(1),  # Circle around (1, 1)\n",
    "        Point(3, 3).buffer(1)   # Circle around (3, 3)\n",
    "    ]\n",
    "})\n",
    "\n",
    "\n"
   ]
  },
  {
   "cell_type": "code",
   "execution_count": 143,
   "id": "555fb41e",
   "metadata": {},
   "outputs": [
    {
     "name": "stdout",
     "output_type": "stream",
     "text": [
      "   id                                           geometry\n",
      "0   1  POLYGON ((1 0, 0.99518 -0.09802, 0.98079 -0.19...\n",
      "1   2  POLYGON ((2 1, 1.99518 0.90198, 1.98079 0.8049...\n",
      "2   3  POLYGON ((4 3, 3.99518 2.90198, 3.98079 2.8049...\n"
     ]
    }
   ],
   "source": [
    "print(gdf)"
   ]
  },
  {
   "cell_type": "code",
   "execution_count": 144,
   "id": "41c826cb",
   "metadata": {},
   "outputs": [
    {
     "data": {
      "text/plain": [
       "<Axes: >"
      ]
     },
     "execution_count": 144,
     "metadata": {},
     "output_type": "execute_result"
    },
    {
     "data": {
      "image/png": "[encoded data removed]",
      "text/plain": [
       "<Figure size 640x480 with 1 Axes>"
      ]
     },
     "metadata": {},
     "output_type": "display_data"
    }
   ],
   "source": [
    "gdf.plot()"
   ]
  },
  {
   "cell_type": "code",
   "execution_count": 145,
   "id": "d743a90c",
   "metadata": {},
   "outputs": [],
   "source": [
    "# Perform spatial self-join\n",
    "intersects = gdf.sjoin(gdf, how=\"left\", predicate=\"intersects\")"
   ]
  },
  {
   "cell_type": "code",
   "execution_count": 146,
   "id": "db8877e1",
   "metadata": {},
   "outputs": [
    {
     "name": "stdout",
     "output_type": "stream",
     "text": [
      "   id_left                                           geometry  index_right  \\\n",
      "0        1  POLYGON ((1 0, 0.99518 -0.09802, 0.98079 -0.19...            0   \n",
      "0        1  POLYGON ((1 0, 0.99518 -0.09802, 0.98079 -0.19...            1   \n",
      "1        2  POLYGON ((2 1, 1.99518 0.90198, 1.98079 0.8049...            0   \n",
      "1        2  POLYGON ((2 1, 1.99518 0.90198, 1.98079 0.8049...            1   \n",
      "2        3  POLYGON ((4 3, 3.99518 2.90198, 3.98079 2.8049...            2   \n",
      "\n",
      "   id_right  \n",
      "0         1  \n",
      "0         2  \n",
      "1         1  \n",
      "1         2  \n",
      "2         3  \n"
     ]
    }
   ],
   "source": [
    "print(intersects)"
   ]
  },
  {
   "cell_type": "code",
   "execution_count": 148,
   "id": "534b5492",
   "metadata": {},
   "outputs": [],
   "source": [
    "intersects_diss = intersects.dissolve(\"id_right\", aggfunc={\"id_left\": concat_ids})"
   ]
  },
  {
   "cell_type": "code",
   "execution_count": 149,
   "id": "134a9094",
   "metadata": {},
   "outputs": [
    {
     "name": "stdout",
     "output_type": "stream",
     "text": [
      "                                                   geometry id_left\n",
      "id_right                                                           \n",
      "1         POLYGON ((0.99518 -0.09802, 0.98079 -0.19509, ...     1_2\n",
      "2         POLYGON ((0.99518 -0.09802, 0.98079 -0.19509, ...     1_2\n",
      "3         POLYGON ((4 3, 3.99518 2.90198, 3.98079 2.8049...       3\n"
     ]
    }
   ],
   "source": [
    "print(intersects_diss)"
   ]
  },
  {
   "cell_type": "code",
   "execution_count": 150,
   "id": "7adca370",
   "metadata": {},
   "outputs": [
    {
     "data": {
      "text/plain": [
       "<Axes: >"
      ]
     },
     "execution_count": 150,
     "metadata": {},
     "output_type": "execute_result"
    },
    {
     "data": {
      "image/png": "[encoded data removed]",
      "text/plain": [
       "<Figure size 640x480 with 1 Axes>"
      ]
     },
     "metadata": {},
     "output_type": "display_data"
    }
   ],
   "source": [
    "intersects_diss.plot()"
   ]
  },
  {
   "cell_type": "code",
   "execution_count": 151,
   "id": "c28743b2",
   "metadata": {},
   "outputs": [],
   "source": [
    "intersects_diss = intersects_diss.reset_index().dissolve(\"id_left\", aggfunc={\"id_right\": concat_ids})\n"
   ]
  },
  {
   "cell_type": "code",
   "execution_count": 152,
   "id": "1926df5d",
   "metadata": {},
   "outputs": [
    {
     "name": "stdout",
     "output_type": "stream",
     "text": [
      "                                                  geometry id_right\n",
      "id_left                                                            \n",
      "1_2      POLYGON ((0.98079 -0.19509, 0.95694 -0.29028, ...      1_2\n",
      "3        POLYGON ((4 3, 3.99518 2.90198, 3.98079 2.8049...        3\n"
     ]
    }
   ],
   "source": [
    "print(intersects_diss)"
   ]
  }
 ],
 "metadata": {
  "kernelspec": {
   "display_name": "Python (wf)",
   "language": "python",
   "name": "wf"
  },
  "language_info": {
   "codemirror_mode": {
    "name": "ipython",
    "version": 3
   },
   "file_extension": ".py",
   "mimetype": "text/x-python",
   "name": "python",
   "nbconvert_exporter": "python",
   "pygments_lexer": "ipython3",
   "version": "3.12.4"
  }
 },
 "nbformat": 4,
 "nbformat_minor": 5
}
