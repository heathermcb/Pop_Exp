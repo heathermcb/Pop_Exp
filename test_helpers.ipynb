{
 "cells": [
  {
   "cell_type": "code",
   "execution_count": 1,
   "id": "33bb5c1d",
   "metadata": {},
   "outputs": [],
   "source": [
    "import geopandas as gpd\n",
    "from shapely.geometry import Point, LineString, Polygon, GeometryCollection\n",
    "from shapely.geometry.base import BaseGeometry\n",
    "from new_helpers_may_14 import PopEstimator"
   ]
  },
  {
   "cell_type": "code",
   "execution_count": 2,
   "id": "cc51a445",
   "metadata": {},
   "outputs": [
    {
     "name": "stderr",
     "output_type": "stream",
     "text": [
      "/var/folders/8y/9yw138b95kjd5wjs3my5vy900000gn/T/ipykernel_41852/1762275085.py:5: ShapelyDeprecationWarning: Directly calling the base class 'BaseGeometry()' is deprecated, and will raise an error in the future. To create an empty geometry, use one of the subclasses instead, for example 'GeometryCollection()'.\n",
      "  empty_geom = BaseGeometry()\n"
     ]
    }
   ],
   "source": [
    "# Create an invalid polygon (self-intersecting)\n",
    "invalid_poly = Polygon([(3, 3), (4, 4), (4, 3), (3, 4), (3, 3)])\n",
    "\n",
    "# Create an empty geometry\n",
    "empty_geom = BaseGeometry()\n",
    "\n",
    "# Create a geometry collection far from the other geometries\n",
    "geom_collection = GeometryCollection([Point(20, 20), LineString([(21, 21), (22, 22)])])\n",
    "\n",
    "\n",
    "# Create the test GeoDataFrame\n",
    "test_gdf = gpd.GeoDataFrame({\n",
    "    \"ID_hazard\": [1, 2, 3, 4, 5],\n",
    "    \"buffer_dist\": [10, 20, 30, 40, 50],\n",
    "    \"geometry\": [\n",
    "        Point(0, 0),                        # Point\n",
    "        LineString([(1.5, 1.5), (2.5, 2.5)]),       # Line\n",
    "        Polygon([(7, 5), (8, 6), (8, 5)]),  # Polygon\n",
    "        empty_geom,                         # Empty geometry\n",
    "        invalid_poly                        # Invalid geometry\n",
    "    ]\n",
    "}, crs=\"EPSG:4326\")\n",
    "\n",
    "# Update the test GeoDataFrame to include the geometry collection\n",
    "test_gdf = gpd.GeoDataFrame({\n",
    "    \"ID_hazard\": [1, 2, 3, 4, 5, 6],\n",
    "    \"buffer_dist\": [10, 20, 30, 40, 50, 60],\n",
    "    \"geometry\": [\n",
    "        Point(0, 0),                              # Point\n",
    "        LineString([(1.5, 1.5), (2.5, 2.5)]),     # LineString\n",
    "        Polygon([(7, 5), (8, 6), (8, 5)]),        # Polygon\n",
    "        empty_geom,                               # Empty geometry\n",
    "        invalid_poly,                             # Invalid geometry\n",
    "        geom_collection                           # GeometryCollection (no overlap)\n",
    "    ]\n",
    "}, crs=\"EPSG:4326\")\n"
   ]
  },
  {
   "cell_type": "code",
   "execution_count": 3,
   "id": "9307e6bb",
   "metadata": {},
   "outputs": [],
   "source": [
    "# write hazards to the demo_data folder as parquet\n",
    "test_gdf.to_parquet(\"demo/demo_data/hazards.parquet\", index=False)\n",
    "\n"
   ]
  },
  {
   "cell_type": "code",
   "execution_count": 4,
   "id": "efa00b37",
   "metadata": {},
   "outputs": [
    {
     "data": {
      "text/plain": [
       "<Axes: >"
      ]
     },
     "execution_count": 4,
     "metadata": {},
     "output_type": "execute_result"
    },
    {
     "data": {
      "image/png": "[encoded data removed]",
      "text/plain": [
       "<Figure size 640x480 with 1 Axes>"
      ]
     },
     "metadata": {},
     "output_type": "display_data"
    }
   ],
   "source": [
    "test_gdf.plot()"
   ]
  },
  {
   "cell_type": "code",
   "execution_count": null,
   "id": "eb69b156",
   "metadata": {},
   "outputs": [
    {
     "name": "stderr",
     "output_type": "stream",
     "text": [
      "/Volumes/squirrel-utopia/Pop_Exp/new_helpers_may_14.py:216: UserWarning: Geometry is in a geographic CRS. Results from 'centroid' are likely incorrect. Use 'GeoSeries.to_crs()' to re-project geometries to a projected CRS before this operation.\n",
      "\n",
      "  shp_df[\"centroid_lon\"] = shp_df.centroid.x\n",
      "/Volumes/squirrel-utopia/Pop_Exp/new_helpers_may_14.py:217: UserWarning: Geometry is in a geographic CRS. Results from 'centroid' are likely incorrect. Use 'GeoSeries.to_crs()' to re-project geometries to a projected CRS before this operation.\n",
      "\n",
      "  shp_df[\"centroid_lat\"] = shp_df.centroid.y\n"
     ]
    },
    {
     "name": "stdout",
     "output_type": "stream",
     "text": [
      "Reading data and finding best UTM projection for hazard geometries\n"
     ]
    },
    {
     "name": "stderr",
     "output_type": "stream",
     "text": [
      "Buffering hazard geometries: 100%|██████████| 5/5 [00:00<00:00, 91.81it/s]\n"
     ]
    }
   ],
   "source": [
    "# init the class\n",
    "est = PopEstimator()\n",
    "\n",
    "hazard_df = est.prepare_data(\"demo/demo_data/hazards.parquet\", \"hazard\")\n",
    "est.hazard_data\n"
   ]
  },
  {
   "cell_type": "code",
   "execution_count": 6,
   "id": "d4dd3780",
   "metadata": {},
   "outputs": [
    {
     "data": {
      "text/html": [
       "<div>\n",
       "<style scoped>\n",
       "    .dataframe tbody tr th:only-of-type {\n",
       "        vertical-align: middle;\n",
       "    }\n",
       "\n",
       "    .dataframe tbody tr th {\n",
       "        vertical-align: top;\n",
       "    }\n",
       "\n",
       "    .dataframe thead th {\n",
       "        text-align: right;\n",
       "    }\n",
       "</style>\n",
       "<table border=\"1\" class=\"dataframe\">\n",
       "  <thead>\n",
       "    <tr style=\"text-align: right;\">\n",
       "      <th></th>\n",
       "      <th>ID_hazard</th>\n",
       "      <th>buffer_dist</th>\n",
       "      <th>geometry</th>\n",
       "      <th>utm_projection</th>\n",
       "      <th>buffered_hazard</th>\n",
       "    </tr>\n",
       "  </thead>\n",
       "  <tbody>\n",
       "    <tr>\n",
       "      <th>0</th>\n",
       "      <td>1</td>\n",
       "      <td>10</td>\n",
       "      <td>POINT (0 0)</td>\n",
       "      <td>EPSG:32631</td>\n",
       "      <td>POLYGON ((8.974348824231427e-5 0, 8.9311348763...</td>\n",
       "    </tr>\n",
       "    <tr>\n",
       "      <th>1</th>\n",
       "      <td>2</td>\n",
       "      <td>20</td>\n",
       "      <td>LINESTRING (1.5 1.5, 2.5 2.5)</td>\n",
       "      <td>EPSG:32631</td>\n",
       "      <td>POLYGON ((2.499873206419677 2.5001283556621687...</td>\n",
       "    </tr>\n",
       "    <tr>\n",
       "      <th>2</th>\n",
       "      <td>3</td>\n",
       "      <td>30</td>\n",
       "      <td>POLYGON ((7 5, 8 6, 8 5, 7 5))</td>\n",
       "      <td>EPSG:32632</td>\n",
       "      <td>POLYGON ((7.0000002058480835 4.999728766539616...</td>\n",
       "    </tr>\n",
       "    <tr>\n",
       "      <th>4</th>\n",
       "      <td>5</td>\n",
       "      <td>50</td>\n",
       "      <td>MULTIPOLYGON (((3 4, 3.5 3.5, 3 3, 3 4)), ((4 ...</td>\n",
       "      <td>EPSG:32631</td>\n",
       "      <td>POLYGON ((2.9995495727233443 3.999999999875969...</td>\n",
       "    </tr>\n",
       "    <tr>\n",
       "      <th>5</th>\n",
       "      <td>6</td>\n",
       "      <td>60</td>\n",
       "      <td>GEOMETRYCOLLECTION (POINT (20 20), LINESTRING ...</td>\n",
       "      <td>EPSG:32634</td>\n",
       "      <td>MULTIPOLYGON (((21.999576958338036 22.00037165...</td>\n",
       "    </tr>\n",
       "  </tbody>\n",
       "</table>\n",
       "</div>"
      ],
      "text/plain": [
       "   ID_hazard  buffer_dist                                           geometry  \\\n",
       "0          1           10                                        POINT (0 0)   \n",
       "1          2           20                      LINESTRING (1.5 1.5, 2.5 2.5)   \n",
       "2          3           30                     POLYGON ((7 5, 8 6, 8 5, 7 5))   \n",
       "4          5           50  MULTIPOLYGON (((3 4, 3.5 3.5, 3 3, 3 4)), ((4 ...   \n",
       "5          6           60  GEOMETRYCOLLECTION (POINT (20 20), LINESTRING ...   \n",
       "\n",
       "  utm_projection                                    buffered_hazard  \n",
       "0     EPSG:32631  POLYGON ((8.974348824231427e-5 0, 8.9311348763...  \n",
       "1     EPSG:32631  POLYGON ((2.499873206419677 2.5001283556621687...  \n",
       "2     EPSG:32632  POLYGON ((7.0000002058480835 4.999728766539616...  \n",
       "4     EPSG:32631  POLYGON ((2.9995495727233443 3.999999999875969...  \n",
       "5     EPSG:32634  MULTIPOLYGON (((21.999576958338036 22.00037165...  "
      ]
     },
     "execution_count": 6,
     "metadata": {},
     "output_type": "execute_result"
    }
   ],
   "source": [
    "hazard_df.head()"
   ]
  },
  {
   "cell_type": "code",
   "execution_count": 7,
   "id": "27939b3d",
   "metadata": {},
   "outputs": [
    {
     "data": {
      "text/plain": [
       "<Axes: >"
      ]
     },
     "execution_count": 7,
     "metadata": {},
     "output_type": "execute_result"
    },
    {
     "data": {
      "image/png": "[encoded data removed]",
      "text/plain": [
       "<Figure size 640x480 with 1 Axes>"
      ]
     },
     "metadata": {},
     "output_type": "display_data"
    }
   ],
   "source": [
    "hazard_df.plot()"
   ]
  },
  {
   "cell_type": "code",
   "execution_count": 8,
   "id": "7bea6693",
   "metadata": {},
   "outputs": [
    {
     "name": "stdout",
     "output_type": "stream",
     "text": [
      "Finding exposed population\n"
     ]
    },
    {
     "name": "stderr",
     "output_type": "stream",
     "text": [
      "/opt/homebrew/Caskroom/miniforge/base/envs/wf/lib/python3.12/site-packages/osgeo/gdal.py:311: FutureWarning: Neither gdal.UseExceptions() nor gdal.DontUseExceptions() has been explicitly called. In GDAL 4.0, exceptions will be enabled by default.\n",
      "  warnings.warn(\n"
     ]
    }
   ],
   "source": [
    "result_2 = est.estimate_exposed_pop(\n",
    "    pop_path=\"demo/demo_data/01_raw_data/GHS_POP_E2020_GLOBE_R2023A_54009_100_V1_0_R5_C8.tif\",\n",
    "    hazard_specific=True,\n",
    "    hazards=hazard_df\n",
    ")"
   ]
  },
  {
   "cell_type": "code",
   "execution_count": 9,
   "id": "50bd2b92",
   "metadata": {},
   "outputs": [
    {
     "name": "stdout",
     "output_type": "stream",
     "text": [
      "   ID_hazard  exposed\n",
      "0          1      0.0\n",
      "1          2      0.0\n",
      "2          3      0.0\n",
      "4          5      0.0\n",
      "5          6      0.0\n"
     ]
    }
   ],
   "source": [
    "print(result_2)"
   ]
  },
  {
   "cell_type": "code",
   "execution_count": null,
   "id": "00b416d2",
   "metadata": {},
   "outputs": [
    {
     "name": "stdout",
     "output_type": "stream",
     "text": [
      "Finding exposed population\n",
      "Finding exposed population\n"
     ]
    },
    {
     "ename": "UnboundLocalError",
     "evalue": "cannot access local variable 'exposed' where it is not associated with a value",
     "output_type": "error",
     "traceback": [
      "\u001b[0;31m---------------------------------------------------------------------------\u001b[0m",
      "\u001b[0;31mUnboundLocalError\u001b[0m                         Traceback (most recent call last)",
      "Cell \u001b[0;32mIn[48], line 7\u001b[0m\n\u001b[1;32m      1\u001b[0m result \u001b[38;5;241m=\u001b[39m est\u001b[38;5;241m.\u001b[39mestimate_exposed_pop(\n\u001b[1;32m      2\u001b[0m     pop_path\u001b[38;5;241m=\u001b[39m\u001b[38;5;124m\"\u001b[39m\u001b[38;5;124mdemo/demo_data/01_raw_data/GHS_POP_E2020_GLOBE_R2023A_54009_100_V1_0_R5_C8.tif\u001b[39m\u001b[38;5;124m\"\u001b[39m,\n\u001b[1;32m      3\u001b[0m     hazard_specific\u001b[38;5;241m=\u001b[39m\u001b[38;5;28;01mFalse\u001b[39;00m,\n\u001b[1;32m      4\u001b[0m     hazards\u001b[38;5;241m=\u001b[39mhazard_df\n\u001b[1;32m      5\u001b[0m )\n\u001b[0;32m----> 7\u001b[0m result_2 \u001b[38;5;241m=\u001b[39m est\u001b[38;5;241m.\u001b[39mestimate_exposed_pop(\n\u001b[1;32m      8\u001b[0m     pop_path\u001b[38;5;241m=\u001b[39m\u001b[38;5;124m\"\u001b[39m\u001b[38;5;124mdemo/demo_data/01_raw_data/GHS_POP_E2020_GLOBE_R2023A_54009_100_V1_0_R5_C8.tif\u001b[39m\u001b[38;5;124m\"\u001b[39m,\n\u001b[1;32m      9\u001b[0m     hazard_specific\u001b[38;5;241m=\u001b[39m\u001b[38;5;28;01mTrue\u001b[39;00m,\n\u001b[1;32m     10\u001b[0m     hazards\u001b[38;5;241m=\u001b[39mhazard_df\n\u001b[1;32m     11\u001b[0m )\n",
      "File \u001b[0;32m/Volumes/squirrel-utopia/Pop_Exp/new_helpers_may_14.py:124\u001b[0m, in \u001b[0;36mPopEstimator.estimate_exposed_pop\u001b[0;34m(self, pop_path, hazard_specific, hazards, spatial_unit)\u001b[0m\n\u001b[1;32m    122\u001b[0m hazards \u001b[38;5;241m=\u001b[39m \u001b[38;5;28mself\u001b[39m\u001b[38;5;241m.\u001b[39m_mask_raster_partial_pixel(hazards, pop_path)\n\u001b[1;32m    123\u001b[0m hazards \u001b[38;5;241m=\u001b[39m hazards[[\u001b[38;5;124m\"\u001b[39m\u001b[38;5;124mID_hazard\u001b[39m\u001b[38;5;124m\"\u001b[39m, \u001b[38;5;124m\"\u001b[39m\u001b[38;5;124mexposed\u001b[39m\u001b[38;5;124m\"\u001b[39m]]\n\u001b[0;32m--> 124\u001b[0m \u001b[38;5;28mself\u001b[39m\u001b[38;5;241m.\u001b[39mexposed \u001b[38;5;241m=\u001b[39m exposed\n\u001b[1;32m    125\u001b[0m \u001b[38;5;28;01mreturn\u001b[39;00m exposed\n",
      "\u001b[0;31mUnboundLocalError\u001b[0m: cannot access local variable 'exposed' where it is not associated with a value"
     ]
    }
   ],
   "source": [
    "result = est.estimate_exposed_pop(\n",
    "    pop_path=\"demo/demo_data/01_raw_data/GHS_POP_E2020_GLOBE_R2023A_54009_100_V1_0_R5_C8.tif\",\n",
    "    hazard_specific=False,\n",
    "    hazards=hazard_df\n",
    ")\n",
    "\n"
   ]
  },
  {
   "cell_type": "code",
   "execution_count": 47,
   "id": "cbdcdc30",
   "metadata": {},
   "outputs": [
    {
     "name": "stdout",
     "output_type": "stream",
     "text": [
      "      ID_hazard  exposed\n",
      "0  merged_geoms      0.0\n"
     ]
    }
   ],
   "source": [
    "print(result)"
   ]
  }
 ],
 "metadata": {
  "kernelspec": {
   "display_name": "wf",
   "language": "python",
   "name": "python3"
  },
  "language_info": {
   "codemirror_mode": {
    "name": "ipython",
    "version": 3
   },
   "file_extension": ".py",
   "mimetype": "text/x-python",
   "name": "python",
   "nbconvert_exporter": "python",
   "pygments_lexer": "ipython3",
   "version": "3.12.4"
  }
 },
 "nbformat": 4,
 "nbformat_minor": 5
}
